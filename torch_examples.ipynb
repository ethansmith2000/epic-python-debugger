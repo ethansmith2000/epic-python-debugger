{
 "cells": [
  {
   "cell_type": "code",
   "execution_count": 1,
   "metadata": {},
   "outputs": [],
   "source": [
    "from debugger import EpicDebugger, epic_debugger_decorator\n",
    "import torch"
   ]
  },
  {
   "cell_type": "code",
   "execution_count": 1,
   "metadata": {},
   "outputs": [],
   "source": [
    "# simple example where we activate pdb, then can examine self.refs_dict\n",
    "def broken_fn(x):\n",
    "    return x / 0\n",
    "\n",
    "with EpicDebugger(debug_always=False, enabled=True, do_pdb=True, exception_fn=None, normal_debug_fn=None):\n",
    "    broken_fn(1)"
   ]
  },
  {
   "cell_type": "code",
   "execution_count": 8,
   "metadata": {},
   "outputs": [],
   "source": [
    "# using the decorator\n",
    "@epic_debugger_decorator(debug_always=False, enabled=True, do_pdb=True, exception_fn=None, normal_debug_fn=None)\n",
    "def broken_fn(x):\n",
    "    return x / 0\n",
    "\n",
    "broken_fn(1)"
   ]
  },
  {
   "cell_type": "code",
   "execution_count": 3,
   "metadata": {},
   "outputs": [],
   "source": [
    "# example of passing a function to call on exception, must have refs_dict as the first argument, this will be a dict of references to all collected vars\n",
    "def another_broken_fn(a_dict, a_list):\n",
    "    return a_dict + a_list\n",
    "\n",
    "def print_named_vars(refs_dict, names=None):\n",
    "    keys = list(refs_dict.keys())\n",
    "    for name in keys:\n",
    "        if names is not None:\n",
    "            if name not in names:\n",
    "                continue\n",
    "        print(name, refs_dict[name])"
   ]
  },
  {
   "cell_type": "code",
   "execution_count": 4,
   "metadata": {},
   "outputs": [
    {
     "name": "stdout",
     "output_type": "stream",
     "text": [
      "********** BEGIN EXCEPTION_FN **********\n",
      "fruits {'apple': 1, 'banana': 2}\n",
      "numbers [1, 2, 3]\n",
      "********** END EXCEPTION_FN **********\n"
     ]
    },
    {
     "name": "stderr",
     "output_type": "stream",
     "text": [
      "Traceback (most recent call last):\n",
      "  File \"/tmp/ipykernel_4170456/1258265313.py\", line 4, in <module>\n",
      "    another_broken_fn(fruits, numbers)\n",
      "  File \"/tmp/ipykernel_4170456/3791443300.py\", line 3, in another_broken_fn\n",
      "    return a_dict + a_list\n",
      "TypeError: unsupported operand type(s) for +: 'dict' and 'list'\n"
     ]
    },
    {
     "ename": "TypeError",
     "evalue": "unsupported operand type(s) for +: 'dict' and 'list'",
     "output_type": "error",
     "traceback": [
      "\u001b[0;31m---------------------------------------------------------------------------\u001b[0m",
      "\u001b[0;31mTypeError\u001b[0m                                 Traceback (most recent call last)",
      "Cell \u001b[0;32mIn[4], line 4\u001b[0m\n\u001b[1;32m      2\u001b[0m numbers \u001b[38;5;241m=\u001b[39m [\u001b[38;5;241m1\u001b[39m, \u001b[38;5;241m2\u001b[39m, \u001b[38;5;241m3\u001b[39m]\n\u001b[1;32m      3\u001b[0m \u001b[38;5;28;01mwith\u001b[39;00m EpicDebugger(debug_always\u001b[38;5;241m=\u001b[39m\u001b[38;5;28;01mTrue\u001b[39;00m, do_pdb\u001b[38;5;241m=\u001b[39m\u001b[38;5;28;01mFalse\u001b[39;00m, exception_fn\u001b[38;5;241m=\u001b[39mprint_named_vars, names\u001b[38;5;241m=\u001b[39m[\u001b[38;5;124m\"\u001b[39m\u001b[38;5;124mfruits\u001b[39m\u001b[38;5;124m\"\u001b[39m, \u001b[38;5;124m\"\u001b[39m\u001b[38;5;124mnumbers\u001b[39m\u001b[38;5;124m\"\u001b[39m]):\n\u001b[0;32m----> 4\u001b[0m     \u001b[43manother_broken_fn\u001b[49m\u001b[43m(\u001b[49m\u001b[43mfruits\u001b[49m\u001b[43m,\u001b[49m\u001b[43m \u001b[49m\u001b[43mnumbers\u001b[49m\u001b[43m)\u001b[49m\n",
      "Cell \u001b[0;32mIn[3], line 3\u001b[0m, in \u001b[0;36manother_broken_fn\u001b[0;34m(a_dict, a_list)\u001b[0m\n\u001b[1;32m      2\u001b[0m \u001b[38;5;28;01mdef\u001b[39;00m \u001b[38;5;21manother_broken_fn\u001b[39m(a_dict, a_list):\n\u001b[0;32m----> 3\u001b[0m     \u001b[38;5;28;01mreturn\u001b[39;00m \u001b[43ma_dict\u001b[49m\u001b[43m \u001b[49m\u001b[38;5;241;43m+\u001b[39;49m\u001b[43m \u001b[49m\u001b[43ma_list\u001b[49m\n",
      "\u001b[0;31mTypeError\u001b[0m: unsupported operand type(s) for +: 'dict' and 'list'"
     ]
    }
   ],
   "source": [
    "fruits = {\"apple\": 1, \"banana\": 2}\n",
    "numbers = [1, 2, 3]\n",
    "with EpicDebugger(debug_always=True, do_pdb=False, exception_fn=print_named_vars, names=[\"fruits\", \"numbers\"]):\n",
    "    another_broken_fn(fruits, numbers)"
   ]
  },
  {
   "cell_type": "code",
   "execution_count": 2,
   "metadata": {},
   "outputs": [],
   "source": [
    "thing = {\"a\": 1, \"b\": 2, \"c\": [1, 2, 3], \"d\": {\"e\": 1, \"f\": 2, \"g\": [(4,5,6), 2, 3]}}\n",
    "tensor1 = torch.arange(4)\n",
    "tensor2 = torch.arange(5)\n",
    "\n",
    "def broken_fn(dictionary, a, b):\n",
    "    print(a + b)"
   ]
  },
  {
   "cell_type": "code",
   "execution_count": 3,
   "metadata": {},
   "outputs": [],
   "source": [
    "from functions import print_vars"
   ]
  },
  {
   "cell_type": "code",
   "execution_count": 4,
   "metadata": {},
   "outputs": [
    {
     "name": "stderr",
     "output_type": "stream",
     "text": [
      "Traceback (most recent call last):\n",
      "  File \"/tmp/ipykernel_4170742/514674531.py\", line 2, in <module>\n",
      "    broken_fn(thing, tensor1, tensor2)\n",
      "  File \"/tmp/ipykernel_4170742/3653530737.py\", line 6, in broken_fn\n",
      "    print(a + b)\n",
      "  File \"/home/ubuntu/seq_diffusion/epic-python-debugger/debugger.py\", line 57, in __torch_dispatch__\n",
      "    out = func(*args, **kwargs)\n",
      "  File \"/home/ubuntu/.local/lib/python3.8/site-packages/torch/_ops.py\", line 448, in __call__\n",
      "    return self._op(*args, **kwargs or {})\n",
      "RuntimeError: The size of tensor a (4) must match the size of tensor b (5) at non-singleton dimension 0\n"
     ]
    },
    {
     "name": "stdout",
     "output_type": "stream",
     "text": [
      "********** BEGIN EXCEPTION_FN **********\n",
      "thing <class 'dict'>, length:4\n",
      "- a <class 'int'>\n",
      "- b <class 'int'>\n",
      "- c <class 'list'>, length:3\n",
      "- -  <class 'int'>\n",
      "- -  <class 'int'>\n",
      "- -  <class 'int'>\n",
      "- d <class 'dict'>, length:3\n",
      "- - e <class 'int'>\n",
      "- - f <class 'int'>\n",
      "- - g <class 'list'>, length:3\n",
      "- - -  <class 'tuple'>, length:3\n",
      "- - - -  <class 'int'>\n",
      "- - - -  <class 'int'>\n",
      "- - - -  <class 'int'>\n",
      "- - -  <class 'int'>\n",
      "- - -  <class 'int'>\n",
      "---------------\n",
      "tensor1 Device: cpu\n",
      "tensor1 Type: torch.int64\n",
      "tensor1 Shape: torch.Size([4])\n",
      "tensor1 dtype: torch.int64\n",
      "tensor1 Is Nan: False\n",
      "tensor1 Is Inf: False\n",
      "tensor1 Min: 0\n",
      "tensor1 Max: 3\n",
      "---------------\n",
      "tensor2 Device: cpu\n",
      "tensor2 Type: torch.int64\n",
      "tensor2 Shape: torch.Size([5])\n",
      "tensor2 dtype: torch.int64\n",
      "tensor2 Is Nan: False\n",
      "tensor2 Is Inf: False\n",
      "tensor2 Min: 0\n",
      "tensor2 Max: 4\n",
      "---------------\n",
      "********** END EXCEPTION_FN **********\n"
     ]
    },
    {
     "ename": "RuntimeError",
     "evalue": "The size of tensor a (4) must match the size of tensor b (5) at non-singleton dimension 0",
     "output_type": "error",
     "traceback": [
      "\u001b[0;31m---------------------------------------------------------------------------\u001b[0m",
      "\u001b[0;31mRuntimeError\u001b[0m                              Traceback (most recent call last)",
      "Cell \u001b[0;32mIn[4], line 2\u001b[0m\n\u001b[1;32m      1\u001b[0m \u001b[38;5;28;01mwith\u001b[39;00m EpicDebugger(debug_always\u001b[38;5;241m=\u001b[39m\u001b[38;5;28;01mTrue\u001b[39;00m, do_pdb\u001b[38;5;241m=\u001b[39m\u001b[38;5;28;01mFalse\u001b[39;00m, exception_fn\u001b[38;5;241m=\u001b[39mprint_vars, names\u001b[38;5;241m=\u001b[39m[\u001b[38;5;124m\"\u001b[39m\u001b[38;5;124mthing\u001b[39m\u001b[38;5;124m\"\u001b[39m, \u001b[38;5;124m\"\u001b[39m\u001b[38;5;124mtensor1\u001b[39m\u001b[38;5;124m\"\u001b[39m, \u001b[38;5;124m\"\u001b[39m\u001b[38;5;124mtensor2\u001b[39m\u001b[38;5;124m\"\u001b[39m]):\n\u001b[0;32m----> 2\u001b[0m     \u001b[43mbroken_fn\u001b[49m\u001b[43m(\u001b[49m\u001b[43mthing\u001b[49m\u001b[43m,\u001b[49m\u001b[43m \u001b[49m\u001b[43mtensor1\u001b[49m\u001b[43m,\u001b[49m\u001b[43m \u001b[49m\u001b[43mtensor2\u001b[49m\u001b[43m)\u001b[49m\n",
      "Cell \u001b[0;32mIn[2], line 6\u001b[0m, in \u001b[0;36mbroken_fn\u001b[0;34m(dictionary, a, b)\u001b[0m\n\u001b[1;32m      5\u001b[0m \u001b[38;5;28;01mdef\u001b[39;00m \u001b[38;5;21mbroken_fn\u001b[39m(dictionary, a, b):\n\u001b[0;32m----> 6\u001b[0m     \u001b[38;5;28mprint\u001b[39m(\u001b[43ma\u001b[49m\u001b[43m \u001b[49m\u001b[38;5;241;43m+\u001b[39;49m\u001b[43m \u001b[49m\u001b[43mb\u001b[49m)\n",
      "File \u001b[0;32m~/seq_diffusion/epic-python-debugger/debugger.py:57\u001b[0m, in \u001b[0;36mEpicDebugger.__torch_dispatch__\u001b[0;34m(self, func, types, args, kwargs)\u001b[0m\n\u001b[1;32m     54\u001b[0m tree_map(gather_names, args)\n\u001b[1;32m     55\u001b[0m tree_map(gather_names, kwargs)\n\u001b[0;32m---> 57\u001b[0m out \u001b[38;5;241m=\u001b[39m \u001b[43mfunc\u001b[49m\u001b[43m(\u001b[49m\u001b[38;5;241;43m*\u001b[39;49m\u001b[43margs\u001b[49m\u001b[43m,\u001b[49m\u001b[43m \u001b[49m\u001b[38;5;241;43m*\u001b[39;49m\u001b[38;5;241;43m*\u001b[39;49m\u001b[43mkwargs\u001b[49m\u001b[43m)\u001b[49m\n\u001b[1;32m     59\u001b[0m \u001b[38;5;28;01mif\u001b[39;00m \u001b[38;5;28mlen\u001b[39m(parent_names) \u001b[38;5;241m>\u001b[39m \u001b[38;5;241m0\u001b[39m:\n\u001b[1;32m     60\u001b[0m     parent_names \u001b[38;5;241m=\u001b[39m \u001b[38;5;124m\"\u001b[39m\u001b[38;5;124m-\u001b[39m\u001b[38;5;124m\"\u001b[39m\u001b[38;5;241m.\u001b[39mjoin(parent_names)\n",
      "File \u001b[0;32m~/.local/lib/python3.8/site-packages/torch/_ops.py:448\u001b[0m, in \u001b[0;36mOpOverload.__call__\u001b[0;34m(self, *args, **kwargs)\u001b[0m\n\u001b[1;32m    447\u001b[0m \u001b[38;5;28;01mdef\u001b[39;00m \u001b[38;5;21m__call__\u001b[39m(\u001b[38;5;28mself\u001b[39m, \u001b[38;5;241m*\u001b[39margs, \u001b[38;5;241m*\u001b[39m\u001b[38;5;241m*\u001b[39mkwargs):\n\u001b[0;32m--> 448\u001b[0m     \u001b[38;5;28;01mreturn\u001b[39;00m \u001b[38;5;28;43mself\u001b[39;49m\u001b[38;5;241;43m.\u001b[39;49m\u001b[43m_op\u001b[49m\u001b[43m(\u001b[49m\u001b[38;5;241;43m*\u001b[39;49m\u001b[43margs\u001b[49m\u001b[43m,\u001b[49m\u001b[43m \u001b[49m\u001b[38;5;241;43m*\u001b[39;49m\u001b[38;5;241;43m*\u001b[39;49m\u001b[43mkwargs\u001b[49m\u001b[43m \u001b[49m\u001b[38;5;129;43;01mor\u001b[39;49;00m\u001b[43m \u001b[49m\u001b[43m{\u001b[49m\u001b[43m}\u001b[49m\u001b[43m)\u001b[49m\n",
      "\u001b[0;31mRuntimeError\u001b[0m: The size of tensor a (4) must match the size of tensor b (5) at non-singleton dimension 0"
     ]
    }
   ],
   "source": [
    "# a function to print out tensor details and display nested objects\n",
    "with EpicDebugger(debug_always=True, do_pdb=False, exception_fn=print_vars, names=[\"thing\", \"tensor1\", \"tensor2\"]):\n",
    "    broken_fn(thing, tensor1, tensor2)"
   ]
  },
  {
   "cell_type": "code",
   "execution_count": 5,
   "metadata": {},
   "outputs": [],
   "source": [
    "# for a function that actually works, but may hide silent errors if tensor values are not checked\n",
    "tensor1 = torch.arange(4) / 0\n",
    "tensor2 = torch.arange(4)\n",
    "\n",
    "def add_tensors(a,b):\n",
    "    return a + b\n",
    "    \n",
    "# runs no problem\n",
    "out = add_tensors(tensor1, tensor2)"
   ]
  },
  {
   "cell_type": "code",
   "execution_count": 12,
   "metadata": {},
   "outputs": [],
   "source": [
    "# for this case, because no exception happens, we'll want to use normal_debug_fn and always_debug=True\n",
    "def throw_if_nan(refs_dict):\n",
    "    keys = list(refs_dict.keys())\n",
    "    for name in keys:\n",
    "        if isinstance(refs_dict[name], torch.Tensor):\n",
    "            if torch.isnan(refs_dict[name]).any():\n",
    "                print(f\"NaN found in {name}\")"
   ]
  },
  {
   "cell_type": "code",
   "execution_count": 13,
   "metadata": {},
   "outputs": [
    {
     "name": "stdout",
     "output_type": "stream",
     "text": [
      "********** BEGIN DEBUG_FN **********\n",
      "NaN found in a\n",
      "********** END DEBUG_FN **********\n"
     ]
    }
   ],
   "source": [
    "@epic_debugger_decorator(debug_always=True, do_pdb=False, normal_debug_fn=throw_if_nan)\n",
    "def add_tensors(a,b):\n",
    "    return a + b\n",
    "\n",
    "out = add_tensors(tensor1, tensor2)"
   ]
  },
  {
   "cell_type": "code",
   "execution_count": null,
   "metadata": {},
   "outputs": [],
   "source": []
  },
  {
   "cell_type": "code",
   "execution_count": null,
   "metadata": {},
   "outputs": [],
   "source": []
  }
 ],
 "metadata": {
  "kernelspec": {
   "display_name": "Python 3",
   "language": "python",
   "name": "python3"
  },
  "language_info": {
   "codemirror_mode": {
    "name": "ipython",
    "version": 3
   },
   "file_extension": ".py",
   "mimetype": "text/x-python",
   "name": "python",
   "nbconvert_exporter": "python",
   "pygments_lexer": "ipython3",
   "version": "3.8.10"
  }
 },
 "nbformat": 4,
 "nbformat_minor": 2
}
